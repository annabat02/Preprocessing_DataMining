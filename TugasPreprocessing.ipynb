{
  "nbformat": 4,
  "nbformat_minor": 0,
  "metadata": {
    "colab": {
      "provenance": [],
      "authorship_tag": "ABX9TyNQvTkncNv86wzoi2geaIju",
      "include_colab_link": true
    },
    "kernelspec": {
      "name": "python3",
      "display_name": "Python 3"
    },
    "language_info": {
      "name": "python"
    }
  },
  "cells": [
    {
      "cell_type": "markdown",
      "metadata": {
        "id": "view-in-github",
        "colab_type": "text"
      },
      "source": [
        "<a href=\"https://colab.research.google.com/github/annabat02/Preprocessing_DataMining/blob/main/TugasPreprocessing.ipynb\" target=\"_parent\"><img src=\"https://colab.research.google.com/assets/colab-badge.svg\" alt=\"Open In Colab\"/></a>"
      ]
    },
    {
      "cell_type": "code",
      "execution_count": 1,
      "metadata": {
        "collapsed": true,
        "id": "45Dkmxdlsli_"
      },
      "outputs": [],
      "source": [
        "import numpy as np\n",
        "import matplotlib.pyplot as plt\n",
        "import pandas as pd"
      ]
    },
    {
      "cell_type": "code",
      "source": [
        "df = pd.read_csv('Stress_Level.csv')\n"
      ],
      "metadata": {
        "id": "8iMHVb74s-Mn"
      },
      "execution_count": 59,
      "outputs": []
    },
    {
      "cell_type": "code",
      "source": [
        "X = df[['Age', 'Gender', 'Employment_Status', 'Financial_Stress', 'Work_Stress', 'Sleep_Hours', 'Social_Support_Score']]\n",
        "y = df['Stress_Level']\n"
      ],
      "metadata": {
        "id": "7GaDKNzctqjO"
      },
      "execution_count": 73,
      "outputs": []
    },
    {
      "cell_type": "code",
      "source": [
        "print (X)"
      ],
      "metadata": {
        "colab": {
          "base_uri": "https://localhost:8080/"
        },
        "id": "XAlGy_giuUJK",
        "outputId": "75cf5242-17f9-4535-c96c-d4304a3ad4f7"
      },
      "execution_count": 9,
      "outputs": [
        {
          "output_type": "stream",
          "name": "stdout",
          "text": [
            "      Age  Gender Employment_Status  Financial_Stress  Work_Stress  \\\n",
            "0      56    Male        Unemployed                 4            3   \n",
            "1      69  Female           Retired                 1            4   \n",
            "2      46  Female          Employed                 8            7   \n",
            "3      32  Female        Unemployed                 7            4   \n",
            "4      60  Female           Retired                 8            9   \n",
            "...   ...     ...               ...               ...          ...   \n",
            "1195   23  Female           Student                 2            8   \n",
            "1196   43  Female          Employed                 8            9   \n",
            "1197   71  Female           Retired                 2            9   \n",
            "1198   21    Male          Employed                 8            5   \n",
            "1199   36    Male          Employed                 7            2   \n",
            "\n",
            "      Sleep_Hours  Social_Support_Score  \n",
            "0             6.0                     3  \n",
            "1             8.8                     6  \n",
            "2             5.3                     5  \n",
            "3             8.8                     4  \n",
            "4             7.2                     2  \n",
            "...           ...                   ...  \n",
            "1195          5.1                     7  \n",
            "1196          8.9                     9  \n",
            "1197          6.0                     2  \n",
            "1198          8.5                     8  \n",
            "1199          4.4                     7  \n",
            "\n",
            "[1200 rows x 7 columns]\n"
          ]
        }
      ]
    },
    {
      "cell_type": "code",
      "source": [
        "print(y)"
      ],
      "metadata": {
        "colab": {
          "base_uri": "https://localhost:8080/"
        },
        "id": "obk8nSwguarA",
        "outputId": "3a119cba-95c0-4308-db22-f3d30d67be2f"
      },
      "execution_count": 10,
      "outputs": [
        {
          "output_type": "stream",
          "name": "stdout",
          "text": [
            "0       9\n",
            "1       6\n",
            "2       8\n",
            "3       4\n",
            "4       3\n",
            "       ..\n",
            "1195    5\n",
            "1196    9\n",
            "1197    2\n",
            "1198    2\n",
            "1199    5\n",
            "Name: Stress_Level, Length: 1200, dtype: int64\n"
          ]
        }
      ]
    },
    {
      "cell_type": "code",
      "source": [
        "print(df.isnull().sum())"
      ],
      "metadata": {
        "colab": {
          "base_uri": "https://localhost:8080/"
        },
        "id": "sioj2xzKzMzg",
        "outputId": "4e9b1faa-e69c-42f2-e0a0-4acc599404e6"
      },
      "execution_count": 11,
      "outputs": [
        {
          "output_type": "stream",
          "name": "stdout",
          "text": [
            "Age                     0\n",
            "Gender                  0\n",
            "Employment_Status       0\n",
            "Financial_Stress        0\n",
            "Work_Stress             0\n",
            "Sleep_Hours             0\n",
            "Social_Support_Score    0\n",
            "Stress_Level            0\n",
            "dtype: int64\n"
          ]
        }
      ]
    },
    {
      "cell_type": "markdown",
      "source": [
        "mengecek apakah ada missing value, hasilnya tidak ada missing value"
      ],
      "metadata": {
        "id": "OTOBS8h9VCGy"
      }
    },
    {
      "cell_type": "code",
      "source": [
        "X = dataset.iloc[:, :-1].values\n",
        "y = dataset.iloc[:, -1].values"
      ],
      "metadata": {
        "id": "hb_0oDbg0O1B"
      },
      "execution_count": 12,
      "outputs": []
    },
    {
      "cell_type": "code",
      "source": [
        "print(X)"
      ],
      "metadata": {
        "colab": {
          "base_uri": "https://localhost:8080/"
        },
        "id": "Yo7jO5lq0SdV",
        "outputId": "a4c06df0-6857-49b7-8036-171a1801abef"
      },
      "execution_count": 13,
      "outputs": [
        {
          "output_type": "stream",
          "name": "stdout",
          "text": [
            "[[56 'Male' 'Unemployed' ... 3 6.0 3]\n",
            " [69 'Female' 'Retired' ... 4 8.8 6]\n",
            " [46 'Female' 'Employed' ... 7 5.3 5]\n",
            " ...\n",
            " [71 'Female' 'Retired' ... 9 6.0 2]\n",
            " [21 'Male' 'Employed' ... 5 8.5 8]\n",
            " [36 'Male' 'Employed' ... 2 4.4 7]]\n"
          ]
        }
      ]
    },
    {
      "cell_type": "code",
      "source": [
        "print(y)"
      ],
      "metadata": {
        "colab": {
          "base_uri": "https://localhost:8080/"
        },
        "id": "OIeCp1vk0WP0",
        "outputId": "f29261e2-0670-4b3b-f661-72bd33496617"
      },
      "execution_count": 14,
      "outputs": [
        {
          "output_type": "stream",
          "name": "stdout",
          "text": [
            "[9 6 8 ... 2 2 5]\n"
          ]
        }
      ]
    },
    {
      "cell_type": "code",
      "source": [
        "df.info(), df.describe()"
      ],
      "metadata": {
        "colab": {
          "base_uri": "https://localhost:8080/"
        },
        "id": "8i_4NQEa9fCL",
        "outputId": "77444a98-4a20-4b82-fc7d-58c39dab2a5b"
      },
      "execution_count": 44,
      "outputs": [
        {
          "output_type": "stream",
          "name": "stdout",
          "text": [
            "<class 'pandas.core.frame.DataFrame'>\n",
            "RangeIndex: 1200 entries, 0 to 1199\n",
            "Data columns (total 8 columns):\n",
            " #   Column                Non-Null Count  Dtype  \n",
            "---  ------                --------------  -----  \n",
            " 0   Age                   1200 non-null   int64  \n",
            " 1   Gender                1200 non-null   object \n",
            " 2   Employment_Status     1200 non-null   object \n",
            " 3   Financial_Stress      1200 non-null   int64  \n",
            " 4   Work_Stress           1200 non-null   int64  \n",
            " 5   Sleep_Hours           1200 non-null   float64\n",
            " 6   Social_Support_Score  1200 non-null   int64  \n",
            " 7   Stress_Level          1200 non-null   int64  \n",
            "dtypes: float64(1), int64(5), object(2)\n",
            "memory usage: 75.1+ KB\n"
          ]
        },
        {
          "output_type": "execute_result",
          "data": {
            "text/plain": [
              "(None,\n",
              "                Age  Financial_Stress  Work_Stress  Sleep_Hours  \\\n",
              " count  1200.000000       1200.000000  1200.000000   1200.00000   \n",
              " mean     46.317500          4.992500     4.889167      6.46900   \n",
              " std      16.451157          2.590953     2.547016      1.52955   \n",
              " min      18.000000          1.000000     1.000000      2.00000   \n",
              " 25%      33.000000          3.000000     3.000000      5.40000   \n",
              " 50%      46.000000          5.000000     5.000000      6.40000   \n",
              " 75%      61.000000          7.000000     7.000000      7.50000   \n",
              " max      74.000000          9.000000     9.000000     12.40000   \n",
              " \n",
              "        Social_Support_Score  Stress_Level  \n",
              " count           1200.000000   1200.000000  \n",
              " mean               5.055000      5.000833  \n",
              " std                2.652893      2.538281  \n",
              " min                1.000000      1.000000  \n",
              " 25%                3.000000      3.000000  \n",
              " 50%                5.000000      5.000000  \n",
              " 75%                7.000000      7.000000  \n",
              " max                9.000000      9.000000  )"
            ]
          },
          "metadata": {},
          "execution_count": 44
        }
      ]
    },
    {
      "cell_type": "markdown",
      "source": [
        "jika missing value tidak ada maka kita harus mengecek apakah ada noisy data atau mungkin outlier"
      ],
      "metadata": {
        "id": "cyLfEKxOMn2f"
      }
    },
    {
      "cell_type": "code",
      "source": [
        "import seaborn as sns\n",
        "import matplotlib.pyplot as plt\n",
        "\n",
        "plt.figure(figsize=(12, 6))\n",
        "sns.boxplot(data=df[['Age', 'Financial_Stress', 'Work_Stress', 'Sleep_Hours', 'Social_Support_Score', 'Stress_Level']])\n",
        "plt.title(\"Boxplot untuk Deteksi Outlier\")\n",
        "plt.xticks(rotation=45)\n",
        "plt.show()"
      ],
      "metadata": {
        "colab": {
          "base_uri": "https://localhost:8080/",
          "height": 568
        },
        "id": "M99vbGsEBmH-",
        "outputId": "47c4521a-7894-428d-f40b-59f430a8751a"
      },
      "execution_count": 62,
      "outputs": [
        {
          "output_type": "display_data",
          "data": {
            "text/plain": [
              "<Figure size 1200x600 with 1 Axes>"
            ],
            "image/png": "[encoded data removed]"
          },
          "metadata": {}
        }
      ]
    },
    {
      "cell_type": "markdown",
      "source": [
        "Melihat apakah ada outlier dengan menggunakan Boxplot hasilnya terdaoat oulier di Sleeo_Hours"
      ],
      "metadata": {
        "id": "todjfGm_V1NQ"
      }
    },
    {
      "cell_type": "code",
      "source": [
        "Q1 = df['Sleep_Hours'].quantile(0.25)\n",
        "Q3 = df['Sleep_Hours'].quantile(0.75)\n",
        "IQR = Q3 - Q1\n",
        "\n",
        "lower_bound = Q1 - 1.5 * IQR\n",
        "upper_bound = Q3 + 1.5 * IQR\n",
        "\n",
        "outliers_iqr = df[(df['Sleep_Hours'] < lower_bound) | (df['Sleep_Hours'] > upper_bound)]\n",
        "print(outliers_iqr)\n"
      ],
      "metadata": {
        "colab": {
          "base_uri": "https://localhost:8080/"
        },
        "id": "ACrjTAo6EZWw",
        "outputId": "12516e89-ce62-4d97-fea9-5772df5ce148"
      },
      "execution_count": 51,
      "outputs": [
        {
          "output_type": "stream",
          "name": "stdout",
          "text": [
            "      Age      Gender Employment_Status  Financial_Stress  Work_Stress  \\\n",
            "187    39      Female           Student                 7            6   \n",
            "239    20      Female           Student                 3            8   \n",
            "444    19       Other        Unemployed                 8            1   \n",
            "533    29      Female           Student                 1            3   \n",
            "746    67  Non-Binary          Employed                 4            4   \n",
            "1008   64      Female          Employed                 4            5   \n",
            "\n",
            "      Sleep_Hours  Social_Support_Score  Stress_Level  Outlier_IF  \n",
            "187          12.4                     9             8           1  \n",
            "239           2.0                     1             7          -1  \n",
            "444           2.1                     1             2          -1  \n",
            "533          10.8                     3             2           1  \n",
            "746           2.1                     2             4           1  \n",
            "1008         11.4                     8             7           1  \n"
          ]
        }
      ]
    },
    {
      "cell_type": "markdown",
      "source": [
        "Melihat Outlier menggunakan metode IQR (Interquartile Range), hasilnya terdapat outlier sebanyak 6"
      ],
      "metadata": {
        "id": "2COQ9e2CWI4D"
      }
    },
    {
      "cell_type": "code",
      "source": [
        "from scipy import stats\n",
        "import numpy as np\n",
        "\n",
        "outlier_counts_zscore = {}\n",
        "for col in ['Age', 'Financial_Stress', 'Work_Stress', 'Sleep_Hours', 'Social_Support_Score', 'Stress_Level']:\n",
        "    count, _ = detect_outliers_zscore(df, col)\n",
        "    outlier_counts_zscore[col] = count\n",
        "\n",
        "print(outlier_counts_zscore)\n",
        "\n",
        "z_scores = np.abs(stats.zscore(df['Sleep_Hours']))\n",
        "\n",
        "outliers_zscore = df[z_scores > 3]\n",
        "print(outliers_zscore)\n"
      ],
      "metadata": {
        "colab": {
          "base_uri": "https://localhost:8080/"
        },
        "id": "0BkZfTPeEiCU",
        "outputId": "ab6239bc-cb91-4730-be00-fdc3ba7de6d1"
      },
      "execution_count": 63,
      "outputs": [
        {
          "output_type": "stream",
          "name": "stdout",
          "text": [
            "{'Age': 0, 'Financial_Stress': 0, 'Work_Stress': 0, 'Sleep_Hours': 2, 'Social_Support_Score': 0, 'Stress_Level': 0}\n",
            "      Age  Gender Employment_Status  Financial_Stress  Work_Stress  \\\n",
            "187    39  Female           Student                 7            6   \n",
            "1008   64  Female          Employed                 4            5   \n",
            "\n",
            "      Sleep_Hours  Social_Support_Score  Stress_Level  \n",
            "187          12.4                     9             8  \n",
            "1008         11.4                     8             7  \n"
          ]
        }
      ]
    },
    {
      "cell_type": "markdown",
      "source": [
        "Mencari outlier menggunakan Z-Score dan terdapat 2 outlier dan ditampilkan"
      ],
      "metadata": {
        "id": "S915GQBVW-Hs"
      }
    },
    {
      "cell_type": "code",
      "source": [
        "from sklearn.ensemble import IsolationForest\n",
        "\n",
        "iso_forest = IsolationForest(contamination=0.01, random_state=42)\n",
        "outlier_pred = iso_forest.fit_predict(df[['Sleep_Hours']])\n",
        "\n",
        "outliers_iso = df[outlier_pred == -1]\n",
        "print(outliers_iso)\n"
      ],
      "metadata": {
        "colab": {
          "base_uri": "https://localhost:8080/"
        },
        "id": "4JOg-7EcYsD7",
        "outputId": "f8923fa9-fe4c-4850-9258-c4c05e52a046"
      },
      "execution_count": 67,
      "outputs": [
        {
          "output_type": "stream",
          "name": "stdout",
          "text": [
            "      Age      Gender Employment_Status  Financial_Stress  Work_Stress  \\\n",
            "36     33      Female           Retired                 1            5   \n",
            "93     40  Non-Binary           Retired                 1            2   \n",
            "176    40        Male        Unemployed                 7            9   \n",
            "187    39      Female           Student                 7            6   \n",
            "239    20      Female           Student                 3            8   \n",
            "309    47        Male          Employed                 5            8   \n",
            "444    19       Other        Unemployed                 8            1   \n",
            "533    29      Female           Student                 1            3   \n",
            "697    29        Male           Retired                 8            5   \n",
            "746    67  Non-Binary          Employed                 4            4   \n",
            "773    27      Female          Employed                 7            5   \n",
            "1008   64      Female          Employed                 4            5   \n",
            "\n",
            "      Sleep_Hours  Social_Support_Score  Stress_Level  Outlier_IF  Outlier_LOF  \n",
            "36            2.7                     2             3           1            1  \n",
            "93           10.5                     3             9           1            1  \n",
            "176           2.4                     4             3           1            1  \n",
            "187          12.4                     9             8           1            1  \n",
            "239           2.0                     1             7          -1            1  \n",
            "309           2.3                     5             9           1            1  \n",
            "444           2.1                     1             2          -1            1  \n",
            "533          10.8                     3             2           1            1  \n",
            "697           2.7                     9             4           1            1  \n",
            "746           2.1                     2             4           1            1  \n",
            "773           2.6                     5             4           1            1  \n",
            "1008         11.4                     8             7           1            1  \n"
          ]
        }
      ]
    },
    {
      "cell_type": "markdown",
      "source": [
        "Setelah dicek nilai outlier masih berada di batas wajar dan outlier hanya ada di sleep_hour yang dimana rentang orang tidur ada di 1-24 jam jadi outlier yang ditemuakan tidak perlu dihapus atau diganti"
      ],
      "metadata": {
        "id": "oPmlIMqJON-O"
      }
    },
    {
      "cell_type": "markdown",
      "source": [
        "Karena tidak adah missing value makan tidak menggunakan kelas impute untuk mencari cara mengisi missing value"
      ],
      "metadata": {
        "id": "Xip-jKkTZHbW"
      }
    },
    {
      "cell_type": "code",
      "source": [
        "from sklearn.compose import ColumnTransformer\n",
        "from sklearn.preprocessing import OneHotEncoder\n",
        "\n",
        "X = df[['Age', 'Gender', 'Employment_Status', 'Financial_Stress', 'Work_Stress', 'Sleep_Hours', 'Social_Support_Score']]\n",
        "\n",
        "categorical_features = ['Gender', 'Employment_Status']\n",
        "\n",
        "ct = ColumnTransformer(\n",
        "    transformers=[('encoder', OneHotEncoder(), categorical_features)],remainder='passthrough')\n",
        "\n",
        "\n",
        "X_transformed = ct.fit_transform(X)\n",
        "\n",
        "\n",
        "X_transformed_df = pd.DataFrame(X_transformed)\n",
        "\n",
        "print(X_transformed_df.head())"
      ],
      "metadata": {
        "colab": {
          "base_uri": "https://localhost:8080/"
        },
        "id": "CoocYIlY5715",
        "outputId": "ec52e15f-bf00-4c25-ec55-904f057ea5a2"
      },
      "execution_count": 72,
      "outputs": [
        {
          "output_type": "stream",
          "name": "stdout",
          "text": [
            "    0    1    2    3    4    5    6    7     8    9    10   11   12\n",
            "0  0.0  1.0  0.0  0.0  0.0  0.0  0.0  1.0  56.0  4.0  3.0  6.0  3.0\n",
            "1  1.0  0.0  0.0  0.0  0.0  1.0  0.0  0.0  69.0  1.0  4.0  8.8  6.0\n",
            "2  1.0  0.0  0.0  0.0  1.0  0.0  0.0  0.0  46.0  8.0  7.0  5.3  5.0\n",
            "3  1.0  0.0  0.0  0.0  0.0  0.0  0.0  1.0  32.0  7.0  4.0  8.8  4.0\n",
            "4  1.0  0.0  0.0  0.0  0.0  1.0  0.0  0.0  60.0  8.0  9.0  7.2  2.0\n"
          ]
        }
      ]
    },
    {
      "cell_type": "code",
      "source": [
        "print (y)"
      ],
      "metadata": {
        "colab": {
          "base_uri": "https://localhost:8080/"
        },
        "id": "q4gA4n5e3vRQ",
        "outputId": "b70ad982-b5fa-4d6e-b411-a871ed69f68f"
      },
      "execution_count": 17,
      "outputs": [
        {
          "output_type": "stream",
          "name": "stdout",
          "text": [
            "[9 6 8 ... 2 2 5]\n"
          ]
        }
      ]
    },
    {
      "cell_type": "markdown",
      "source": [
        "tidak memerlukan LabelEncoder karena label y merupakan bertipe data numerik bukan kategorikal"
      ],
      "metadata": {
        "id": "YjGEGL3L3yB8"
      }
    },
    {
      "cell_type": "code",
      "source": [
        "from sklearn.model_selection import train_test_split\n",
        "X_train, X_test, y_train, y_test = train_test_split(X_transformed, y, test_size=0.2, random_state=1)\n"
      ],
      "metadata": {
        "id": "Uahn6rUk7WFE"
      },
      "execution_count": 38,
      "outputs": []
    },
    {
      "cell_type": "code",
      "source": [
        "print(X_train)"
      ],
      "metadata": {
        "colab": {
          "base_uri": "https://localhost:8080/"
        },
        "id": "7lxzAume7h6A",
        "outputId": "a345c888-f8e4-4c27-b788-cf2550daa4ee"
      },
      "execution_count": 39,
      "outputs": [
        {
          "output_type": "stream",
          "name": "stdout",
          "text": [
            "[[1.  0.  0.  ... 9.  5.3 9. ]\n",
            " [0.  1.  0.  ... 6.  8.6 3. ]\n",
            " [1.  0.  0.  ... 4.  6.8 6. ]\n",
            " ...\n",
            " [1.  0.  0.  ... 6.  5.2 5. ]\n",
            " [1.  0.  0.  ... 5.  6.2 1. ]\n",
            " [1.  0.  0.  ... 5.  5.7 4. ]]\n"
          ]
        }
      ]
    },
    {
      "cell_type": "markdown",
      "source": [
        "Membagi dataset menjadi data latih dan data uji"
      ],
      "metadata": {
        "id": "hTj3qTNGaguc"
      }
    }
  ]
}